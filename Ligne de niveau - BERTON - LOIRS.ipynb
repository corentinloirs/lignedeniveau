{
 "cells": [
  {
   "cell_type": "markdown",
   "metadata": {},
   "source": [
    "## INTRODUCTION\n",
    "\n",
    "On cherche à créer un programme python permettant de tracer des lignes de niveau d'une fonction $f:\\mathbb{R}^2\\to\\mathbb{R}\\$\n",
    "\n",
    "Pour cela on choisit de, plutôt que de traiter le cas plus complexe d'une ligne de niveau dans un pavé de grande dimension, on va dans un premier temps se concentrer sur le cas du carré unité $\\mathopen{[}0,1\\mathclose{]}^2$. Il suffira d'étendre le programme de calcul dans ce carré au reste des carrés de la forme $\\mathopen{[}a,a+1\\mathclose{]}^2,a\\in\\mathbb{R}$ pavant le domaine de définition de $f$.\n",
    "\n",
    "On va tout d'abord importer les modules auxquels on fera appel lors de la conception des programmes:"
   ]
  },
  {
   "cell_type": "code",
   "execution_count": 1,
   "metadata": {},
   "outputs": [],
   "source": [
    "import matplotlib.pyplot as plt\n",
    "from math import *\n",
    "import numpy as np"
   ]
  },
  {
   "cell_type": "markdown",
   "metadata": {},
   "source": [
    "# Amorce:\n",
    "\n",
    "On demande d'abord une condition *raisonnable* sur $f(0,0),\\: f(0,1)$ et $c\\:(c\\in\\mathbb{R})$ telle que: $\\exists\\:t\\in\\mathopen{[}0,1\\mathclose{]}$ tq $f(0,t)=c$\n",
    "\n",
    "\n",
    ">Une condition suffisante (bien que relativement exigente) est donnée par le théorème des valeurs intermédiaires, qui s'exprime de la manière suivante:\n",
    "\n",
    ">Soient $(a,b,c)\\in\\mathbb{R}^3,\\: et\\: f:\\mathopen{[}a,b\\mathclose{]}\\to\\mathbb{R}$ continue sur son intervalle de définition. Si $c\\in f(\\mathopen{[}a,b\\mathclose{]})$ alors $\\exists\\ t\\in\\mathopen{[}a,b\\mathclose{]}$ tel que $f(t)=c$\n",
    "\n",
    ">Ainsi, on choisit la condition suffisante suivante: $c\\in f(\\mathopen{[}0,1\\mathclose{]}$\n",
    "\n",
    "\n",
    "# Question 1\n",
    "\n",
    "On demande d'en déduire une fonction ```find_seed``` permettant d'initialiser notre recherche d'une ligne de niveau sur l'arrête droite du carré unité:\n",
    ">On choisit d'utiliser la méthode de la dichotomie, qui permet d'obtenir une approximation à $\\:2^{-26}$ de la valeur c recherchée (la valeur $2^{-26}$ étant fixée par l'énoncé). Cette méthode a l'avantage d'être relativement rapide (complexité en O(ln(n)).\n",
    "\n",
    "On obtient le code suivant:"
   ]
  },
  {
   "cell_type": "code",
   "execution_count": 2,
   "metadata": {},
   "outputs": [],
   "source": [
    "def find_seed (g,a=0,b=1,c=0,eps=2**(-26)):\n",
    "    #on vérifie qu'il existe une solution\n",
    "    if not (min(g(a),g(b))<=c<=max(g(a),g(b))):\n",
    "        return None\n",
    "    t=(a+b)/2\n",
    "    while abs(b-a)>eps:\n",
    "        for x in [a,b,t]:\n",
    "            if g(x)==0:\n",
    "                return x\n",
    "        if g(a)*g(t)<0:\n",
    "            b=t\n",
    "        else:\n",
    "            a=t\n",
    "        t=(a+b)/2\n",
    "    return t"
   ]
  },
  {
   "cell_type": "markdown",
   "metadata": {},
   "source": [
    "On présente ici la version finale du code, qui permettra à terme non pas de trouver le début d'une ligne de niveau sur une arrête droite du carré unité mais le début d'une ligne de niveau sur n'importe quelle arrête de n'importe quel carré de la forme $\\mathopen{[}a,b\\mathclose{]}$"
   ]
  },
  {
   "cell_type": "markdown",
   "metadata": {},
   "source": [
    "# Question 2\n",
    "\n",
    "On demande maintenant d'écrire une fonction ```contour_simple``` permettant de tracer une ligne de niveau dans un carré unité.\n",
    "\n",
    "Pour cela on va utiliser une méthode qui n'a pas recours à l'exploitation du gradient de $f$, et qui donc n'appelera pas la fonction ```autograd.grad```. En effet cette méthode plus rapide a cependant un désavantage: une forte propagation des erreurs (qu'on retrouve dans le cas 1D dans la forte propagation de l'erreur dans l'algorithme de la méthode de Newton).\n",
    "\n",
    "\n",
    "Voici le code, d'abord de la première fonction codée, relativement \"naïve\":"
   ]
  },
  {
   "cell_type": "code",
   "execution_count": 3,
   "metadata": {},
   "outputs": [],
   "source": [
    "#première méthode naïve, fonctionnant par dichotomie en appelant find_seed pour chaque argument x:\n",
    "\n",
    "def simple_contour(f,c=0.0, delta=0.01):\n",
    "    listex=np.arange(0,1,delta)\n",
    "    listey=[]\n",
    "    for x in listex : \n",
    "        def g(a):\n",
    "            return f(x,a)\n",
    "        y=find_seed(g)\n",
    "        if y==None:\n",
    "            return [],[]\n",
    "        listey+=[y]\n",
    "    return listex,listey"
   ]
  },
  {
   "cell_type": "markdown",
   "metadata": {},
   "source": [
    "La méthode que l'on va réllement utiliser est une recherche de ligne de niveau de proche en proche. Partant d'un point dont on sait qu'il appartient à la ligne de niveau à tracer, on cherche dans un cercle de rayon delta autour du point un autre point appartenant à la ligne de niveau. \n",
    "\n",
    "On s'attend à ce que cette méthode soit plutôt lente en temps d'exécution, mais qu'elle soit presque libre de problèmes de propagation d'erreur, puisqu'on recherche une solution approchée indépendante de la solution trouvée à la recherche précédente.\n",
    "\n",
    "On essaye tout d'abord en parcourant tout le cercle, mais on a trop de risques de retour en arrière et c'est très long.\n",
    "(remarque : la fonction est adaptée pour la suite de l'exercice, et prend donc en argument n, qui correspond au coté sur le quel on cherche la seed (1:gauche, 2:haut, etc), ainsi que xp et yp les intervalles de x et de y)\n",
    "\n",
    "On décide donc de se servir de la tangente que l'on évalue grâce aux deux derniers points pour avoir la normale et pouvoir connaître la moitié du cercle qu'il faut chercher.\n",
    "\n",
    "On va se servir d'une fonction auxilliaire: ```angle```"
   ]
  },
  {
   "cell_type": "code",
   "execution_count": 4,
   "metadata": {},
   "outputs": [],
   "source": [
    "def angle(tangente):\n",
    "    c,d=tangente\n",
    "    if c==0:\n",
    "        return 0,pi,0\n",
    "    #on calcule teta0, l'angle que fait la tangente avec l'abscisse.\n",
    "    if c<0:\n",
    "        teta0=atan(d/c)+pi\n",
    "    else:\n",
    "        teta0=atan(d/c)\n",
    "    #on calcule teta2 et teta1, le secteur angulaire de recherche. On retourne teta2 en premier, qui correspond à l'angle où commencera la recherche qui se poursuivra dans le sens trigo.\n",
    "    teta2=teta0-pi/2\n",
    "    teta1=teta0+pi/2\n",
    "    return teta2,teta1,teta2"
   ]
  },
  {
   "cell_type": "markdown",
   "metadata": {},
   "source": []
  },
  {
   "cell_type": "code",
   "execution_count": 5,
   "metadata": {},
   "outputs": [],
   "source": [
    "def simple_contour(f,n=1,xp=[0,1],yp=[0,1],c=0,delta=0.01):\n",
    "    #on définit g la fonction d'une variable que l'on obtient en fixant x ou y dans f fonction de (x,y),\n",
    "    #selon le coté par lequel on arrive, à la bonne valeur (ex pour n=1 : on fixe x à xp[0])\n",
    "    def g(a):\n",
    "        if n==1:\n",
    "            return f(xp[0],a)\n",
    "        if n==2:\n",
    "            return f(a,yp[1])\n",
    "        if n==3:\n",
    "            return f(xp[1],a)\n",
    "        return f(a,yp[0])\n",
    "    #pour chaque valeur de n:\n",
    "        #on trouve le point de départ, en vérifiant qu'il existe bien.\n",
    "        #on définit le secteur angulaire de recherche du point suivant, en traitant les cas où on est trop proche des bords.\n",
    "        #s permet de régler le sens dans lequel on va tourner pour la recherche du point suivant.\n",
    "    seed1=find_seed(g,xp[0],xp[1])\n",
    "    seed2=find_seed(g,yp[0],yp[1])\n",
    "    if n==1:\n",
    "        seed=seed2\n",
    "        point=[xp[0],seed]\n",
    "        if point[1]==None or point[0]==None:\n",
    "            return [],[]\n",
    "        teta1,teta2=-pi/2,pi/2\n",
    "        if seed<yp[0]+delta:\n",
    "            teta1=0\n",
    "        if seed>yp[1]-delta:\n",
    "            teta2=0\n",
    "        s=-1\n",
    "    if n==2:\n",
    "        seed=seed1\n",
    "        point=[seed,yp[1]]\n",
    "        if point[1]==None or point[0]==None:\n",
    "            return [],[]\n",
    "        teta1,teta2=-pi,0\n",
    "        if seed<xp[0]+delta:\n",
    "            teta1=-pi/2\n",
    "        if seed>xp[1]-delta:\n",
    "            teta2=-pi/2\n",
    "        s=-1\n",
    "    if n==3:\n",
    "        seed=seed2\n",
    "        point=[xp[1],seed]\n",
    "        if point[1]==None or point[0]==None:\n",
    "            return [],[]\n",
    "        teta1,teta2=-pi/2,-3*pi/2\n",
    "        if seed<yp[0]+delta:\n",
    "            teta1=-pi\n",
    "        if seed>yp[1]-delta:\n",
    "            teta2=-pi\n",
    "        s=1\n",
    "    if n==4:\n",
    "        seed=seed1\n",
    "        point=[seed,yp[0]]\n",
    "        if point[1]==None or point[0]==None:\n",
    "            return [],[]\n",
    "        teta1,teta2=-pi,-2*pi\n",
    "        if seed<xp[0]+delta:\n",
    "            teta1=-pi/2\n",
    "        if seed>xp[1]-delta:\n",
    "            teta2=-pi/2\n",
    "        s=1\n",
    "    teta=teta2\n",
    "    #on créé les listees que l'on va retourner, qui ne contiennent initialement que l'abscisse et l'ordonnée du point de départ, puis on cherche le point suivant.\n",
    "    u,v=point[0],point[1]\n",
    "    lx,ly=[u],[v]\n",
    "    eps=1*10**-4\n",
    "    x,y=u+delta*cos(teta),v+delta*sin(teta)\n",
    "    while abs(f(x,y)-c)>eps and s*teta2<=s*teta<=s*teta1:\n",
    "        teta+=s*eps\n",
    "        x,y=u+delta*cos(teta),v+delta*sin(teta)\n",
    "    lx+=[x]\n",
    "    ly+=[y]\n",
    "    #on va rechercher tous les points suivants en s'aidant de la tangente, tant qu'on ne sort pas du carré.\n",
    "    while xp[0]<=lx[-1]<=xp[1] and yp[0]<=ly[-1]<=yp[1]:\n",
    "        u,v=lx[-1],ly[-1]\n",
    "        tangente=[u-lx[-2],v-ly[-2]]\n",
    "        teta,teta1,teta2=angle(tangente)\n",
    "        x,y=u+delta*cos(teta),v+delta*sin(teta)\n",
    "        while abs(f(x,y)-c)>eps and teta2<=teta<=teta1:\n",
    "            teta+=eps\n",
    "            x,y=u+delta*cos(teta),v+delta*sin(teta)\n",
    "        #dans le cas où on n'a pas trouvé de teta, on retourne des listes vides.\n",
    "        if abs(f(x,y)-c)>eps:\n",
    "            return [],[]\n",
    "        lx+=[x]\n",
    "        ly+=[y]\n",
    "    return lx,ly"
   ]
  },
  {
   "cell_type": "markdown",
   "metadata": {},
   "source": [
    "Cette méthode est beaucoup trop lente. On décide donc de chercher le point suivant en partant de la tangente, et en s'en éloignant des deux cotés.\n",
    "\n",
    "Pour cela, on modifie légérement la fonction angle.\n",
    "\n",
    "De plus, on ajoute une liste ln dans les listes à retourner, qui contient le coté par lesquels on est sorti. Dans le cas où l'on rentre où l'on sort par l'un des angles, les deux cotés (sauf éventuellement celui par lequel il était prévu d'entrer) sont aussi ajoutés dans la liste.\n",
    "\n",
    "Ainsi, on pourra éviter de reparcourir la courbe dans plusieurs sens ou plusieurs fois."
   ]
  },
  {
   "cell_type": "code",
   "execution_count": 6,
   "metadata": {},
   "outputs": [],
   "source": [
    "def angle(tangente):\n",
    "    c,d=tangente\n",
    "    if c==0:\n",
    "        return 0,pi,0\n",
    "    if c<0:\n",
    "        teta0=atan(d/c)+pi\n",
    "    else:\n",
    "        teta0=atan(d/c)\n",
    "    teta2=teta0-pi/2\n",
    "    teta1=teta0+pi/2\n",
    "    #maintenant, l'angle point de départ est teta0.\n",
    "    return teta0,teta1,teta2\n",
    "\n",
    "def simple_contour(f,n=1,xp=[0,1],yp=[0,1],c=0,delta=0.01):\n",
    "    def g(a):\n",
    "        if n==1:\n",
    "            return f(xp[0],a)\n",
    "        if n==2:\n",
    "            return f(a,yp[1])\n",
    "        if n==3:\n",
    "            return f(xp[1],a)\n",
    "        return f(a,yp[0])\n",
    "    seed1=find_seed(g,xp[0],xp[1])\n",
    "    seed2=find_seed(g,yp[0],yp[1])\n",
    "    ln=[]\n",
    "    if n==1:\n",
    "        seed=seed2\n",
    "        point=[xp[0],seed]\n",
    "        if point[1]==None or point[0]==None:\n",
    "            return [],[]\n",
    "        teta1,teta2=-pi/2,pi/2\n",
    "        if seed<yp[0]+delta:\n",
    "            teta1=0\n",
    "            ln+=[4]\n",
    "        if seed>yp[1]-delta:\n",
    "            teta2=0\n",
    "            ln+=[2]\n",
    "        s=-1\n",
    "    if n==2:\n",
    "        seed=seed1\n",
    "        point=[seed,yp[1]]\n",
    "        if point[1]==None or point[0]==None:\n",
    "            return [],[]\n",
    "        teta1,teta2=-pi,0\n",
    "        if seed<xp[0]+delta:\n",
    "            teta1=-pi/2\n",
    "            ln+=[1]\n",
    "        if seed>xp[1]-delta:\n",
    "            teta2=-pi/2\n",
    "            ln+=[3]\n",
    "        s=-1\n",
    "    if n==3:\n",
    "        seed=seed2\n",
    "        point=[xp[1],seed]\n",
    "        if point[1]==None or point[0]==None:\n",
    "            return [],[]\n",
    "        teta1,teta2=-pi/2,-3*pi/2\n",
    "        if seed<yp[0]+delta:\n",
    "            teta1=-pi\n",
    "            ln+=[4]\n",
    "        if seed>yp[1]-delta:\n",
    "            teta2=-pi\n",
    "            ln+=[2]\n",
    "        s=1\n",
    "    if n==4:\n",
    "        seed=seed1\n",
    "        point=[seed,yp[0]]\n",
    "        if point[1]==None or point[0]==None:\n",
    "            return [],[]\n",
    "        teta1,teta2=-pi,-2*pi\n",
    "        if seed<xp[0]+delta:\n",
    "            teta1=-pi/2\n",
    "            ln+=[1]\n",
    "        if seed>xp[1]-delta:\n",
    "            teta2=-pi/2\n",
    "            ln+=[3]\n",
    "        s=1\n",
    "    teta=teta2\n",
    "    u,v=point[0],point[1]\n",
    "    lx,ly=[u],[v]\n",
    "    eps=1*10**-4\n",
    "    x,y=u+delta*cos(teta),v+delta*sin(teta)\n",
    "    while abs(f(x,y)-c)>eps and s*teta2<=s*teta<=s*teta1:\n",
    "        teta+=s*eps\n",
    "        x,y=u+delta*cos(teta),v+delta*sin(teta)\n",
    "    lx+=[x]\n",
    "    ly+=[y]\n",
    "    while xp[0]<=lx[-1]<=xp[1] and yp[0]<=ly[-1]<=yp[1]:\n",
    "        u,v=lx[-1],ly[-1]\n",
    "        teta,teta1,teta2=angle([u-lx[-2],v-ly[-2]])\n",
    "        teta0=teta\n",
    "        #tetap va évoluer dans le sens anti-trigo, teta0 dans le sens trigo.\n",
    "        #x2,y2 seront les points du cercle d'argument tetap.\n",
    "        tetap=teta\n",
    "        x,y=u+delta*cos(teta),v+delta*sin(teta)\n",
    "        x2,y2=x,y\n",
    "        while (abs(f(x,y)-c)>eps and teta0<=teta<=teta1) and (abs(f(x2,y2)-c)>eps and teta2<=tetap<=teta0):\n",
    "            teta+=eps\n",
    "            tetap-=eps\n",
    "            x,y=u+delta*cos(teta),v+delta*sin(teta)\n",
    "            x2,y2=u+delta*cos(tetap),v+delta*sin(tetap)\n",
    "        if abs(f(x,y)-c)>eps and abs(f(x2,y2)-c)>eps:\n",
    "            return [],[]\n",
    "        if abs(f(x2,y2)-c)<eps:\n",
    "            lx+=[x2]\n",
    "            ly+=[y2]\n",
    "        else :\n",
    "            lx+=[x]\n",
    "            ly+=[y]\n",
    "    #on augmente n en fonction du point de sortie.\n",
    "    if abs(lx[-1]-xp[0])<delta:\n",
    "        ln+=[1]\n",
    "    if abs(lx[-1]-xp[1])<delta:\n",
    "        ln+=[3]\n",
    "    if abs(ly[-1]-yp[0])<delta:\n",
    "        ln+=[4]\n",
    "    if abs(ly[-1]-yp[1])<delta:\n",
    "        ln+=[2]\n",
    "    return lx,ly,ln"
   ]
  },
  {
   "cell_type": "markdown",
   "metadata": {},
   "source": [
    "# Question 3\n",
    "\n",
    "On demande ensuite d'écrite une fonction ```contour complexe``` qui trace la ligne de niveau sur l'ensemble de l'espace.\n",
    "\n",
    "Il s'agit donc de découper l'espace en carré unités. Il suffira d'appeler contour simple dans chacun des carrés.\n"
   ]
  },
  {
   "cell_type": "code",
   "execution_count": 7,
   "metadata": {},
   "outputs": [],
   "source": [
    "def contour(f,c=0.0,xc=[-2,-1,0,1,2],yc=[-1,0,1],delta=0.01):\n",
    "    xs,ys=[],[]\n",
    "    #a désigne la \"colonne\" dans laquelle on est, b la \"ligne\". On s'arrange pour parcourir tous les carrés.\n",
    "    for a in range(len(xc)-1):\n",
    "        for b in range(len(yc)-1):\n",
    "            xp=[xc[a],xc[a+1]]\n",
    "            yp=[yc[b],yc[b+1]]\n",
    "            #pour chaque carré, on se prépare à étudier chaque coté.\n",
    "            liste=[1,2,3,4]\n",
    "            for n in liste:\n",
    "                vect=simple_contour(f,n,xp,yp)\n",
    "                xs+=[vect[0]]\n",
    "                ys+=[vect[1]]\n",
    "                #on regarde maintenant quelles valeurs on peut enlever à liste.\n",
    "                if len(vect)>2:\n",
    "                    for x in vect[2]:\n",
    "                        try :\n",
    "                            liste.pop(x)\n",
    "                        except:\n",
    "                            None\n",
    "    return xs,ys"
   ]
  },
  {
   "cell_type": "markdown",
   "metadata": {},
   "source": [
    "On teste la fonction contour pour quelques fonctions quadratiques "
   ]
  },
  {
   "cell_type": "code",
   "execution_count": 9,
   "metadata": {},
   "outputs": [
    {
     "data": {
      "image/png": "[encoded data removed]",
      "text/plain": [
       "<Figure size 432x288 with 1 Axes>"
      ]
     },
     "metadata": {
      "needs_background": "light"
     },
     "output_type": "display_data"
    },
    {
     "data": {
      "image/png": "[encoded data removed]",
      "text/plain": [
       "<Figure size 432x288 with 1 Axes>"
      ]
     },
     "metadata": {
      "needs_background": "light"
     },
     "output_type": "display_data"
    },
    {
     "data": {
      "image/png": "[encoded data removed]",
      "text/plain": [
       "<Figure size 432x288 with 1 Axes>"
      ]
     },
     "metadata": {
      "needs_background": "light"
     },
     "output_type": "display_data"
    },
    {
     "data": {
      "image/png": "[encoded data removed]",
      "text/plain": [
       "<Figure size 432x288 with 1 Axes>"
      ]
     },
     "metadata": {
      "needs_background": "light"
     },
     "output_type": "display_data"
    }
   ],
   "source": [
    "\n",
    "def quadra(x,y):\n",
    "    return x**2+y**2-1\n",
    "def quadra2(x,y):\n",
    "    return y-x**2+.5\n",
    "def f(x,y):\n",
    "    return np.sin(x)+2*np.sin(y)\n",
    "\n",
    "l=simple_contour(quadra)\n",
    "x,y=l[0],l[1]\n",
    "plt.plot(x,y)\n",
    "plt.show()\n",
    "\n",
    "plt.figure()\n",
    "xs,ys=contour(quadra2)\n",
    "for x,y in zip(xs,ys):\n",
    "    plt.plot(x,y)\n",
    "plt.show()\n",
    "\n",
    "plt.figure()\n",
    "xs,ys=contour(quadra)\n",
    "for x,y in zip(xs,ys):\n",
    "    plt.plot(x,y)\n",
    "plt.show()\n",
    "plt.figure()\n",
    "xs,ys=contour(f)\n",
    "for x,y in zip(xs,ys):\n",
    "    plt.plot(x,y)\n",
    "plt.show()"
   ]
  },
  {
   "cell_type": "markdown",
   "metadata": {},
   "source": [
    "Ce qui donne en un temps respectable le résultat escompté"
   ]
  },
  {
   "cell_type": "code",
   "execution_count": null,
   "metadata": {},
   "outputs": [],
   "source": []
  }
 ],
 "metadata": {
  "kernelspec": {
   "display_name": "Python 3",
   "language": "python",
   "name": "python3"
  },
  "language_info": {
   "codemirror_mode": {
    "name": "ipython",
    "version": 3
   },
   "file_extension": ".py",
   "mimetype": "text/x-python",
   "name": "python",
   "nbconvert_exporter": "python",
   "pygments_lexer": "ipython3",
   "version": "3.7.3"
  }
 },
 "nbformat": 4,
 "nbformat_minor": 2
}
